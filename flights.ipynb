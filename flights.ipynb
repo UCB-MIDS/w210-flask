{
 "cells": [
  {
   "cell_type": "code",
   "execution_count": 1,
   "metadata": {
    "collapsed": true
   },
   "outputs": [],
   "source": [
    "import pandas as pd\n",
    "df = pd.read_csv('sample_data.csv')"
   ]
  },
  {
   "cell_type": "code",
   "execution_count": 2,
   "metadata": {
    "collapsed": true
   },
   "outputs": [],
   "source": [
    "# Transform ARR_DELAY into a 1/0 format for Delay/No Delay\n",
    "df['ARR_DELAY'] = df['ARR_DELAY'].apply(lambda x:1 if x>=5 else 0)"
   ]
  },
  {
   "cell_type": "code",
   "execution_count": 3,
   "metadata": {
    "collapsed": true
   },
   "outputs": [],
   "source": [
    "df = pd.concat([df,pd.get_dummies(df['UNIQUE_CARRIER'],drop_first=True,prefix=\"UNIQUE_CARRIER\")],axis=1)\n",
    "df = pd.concat([df,pd.get_dummies(df['ORIGIN'],drop_first=True,prefix=\"ORIGIN\")],axis=1)\n",
    "df = pd.concat([df,pd.get_dummies(df['DEST'],drop_first=True,prefix=\"DEST\")],axis=1)\n",
    "df = pd.concat([df,pd.get_dummies(df['DAY_OF_WEEK'],drop_first=True,prefix=\"DAY_OF_WEEK\")],axis=1)\n",
    "df = pd.concat([df,pd.get_dummies(df['DEP_HOUR'],drop_first=True,prefix=\"DEP_HOUR\")],axis=1)\n",
    "df.drop(['ORIGIN','DEST','UNIQUE_CARRIER','DAY_OF_WEEK','DEP_HOUR'],axis=1,inplace=True)"
   ]
  },
  {
   "cell_type": "code",
   "execution_count": 4,
   "metadata": {
    "collapsed": true
   },
   "outputs": [],
   "source": [
    "from sklearn.model_selection import train_test_split\n",
    "X_train, X_test, y_train, y_test = train_test_split(df.drop('ARR_DELAY',axis=1),df['ARR_DELAY'], test_size=0.30)\n",
    "\n",
    "from sklearn.linear_model import LogisticRegression\n",
    "#Train the model\n",
    "logmodel = LogisticRegression()\n",
    "logmodel.fit(X_train,y_train)\n",
    "\n",
    "#Predicting on the Test Set\n",
    "predictions = logmodel.predict(X_test)"
   ]
  },
  {
   "cell_type": "code",
   "execution_count": 5,
   "metadata": {
    "collapsed": true
   },
   "outputs": [],
   "source": [
    "import pickle\n",
    "with open('logmodel.pkl', 'wb') as fid:\n",
    "    pickle.dump(logmodel, fid,2) "
   ]
  },
  {
   "cell_type": "code",
   "execution_count": 6,
   "metadata": {
    "collapsed": true
   },
   "outputs": [],
   "source": [
    "#Create a Dataframe with only the dummy variables\n",
    "cat = df.drop('ARR_DELAY',axis=1)\n",
    "index_dict = dict(zip(cat.columns,range(cat.shape[1])))\n",
    "\n",
    "with open('cat', 'wb') as fid:\n",
    "    pickle.dump(index_dict, fid,2)  "
   ]
  },
  {
   "cell_type": "code",
   "execution_count": null,
   "metadata": {
    "collapsed": true
   },
   "outputs": [],
   "source": []
  }
 ],
 "metadata": {
  "kernelspec": {
   "display_name": "Python 3",
   "language": "python",
   "name": "python3"
  },
  "language_info": {
   "codemirror_mode": {
    "name": "ipython",
    "version": 3
   },
   "file_extension": ".py",
   "mimetype": "text/x-python",
   "name": "python",
   "nbconvert_exporter": "python",
   "pygments_lexer": "ipython3",
   "version": "3.6.3"
  }
 },
 "nbformat": 4,
 "nbformat_minor": 2
}
